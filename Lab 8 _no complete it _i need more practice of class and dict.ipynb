{
 "cells": [
  {
   "cell_type": "code",
   "execution_count": null,
   "id": "7a54564a",
   "metadata": {},
   "outputs": [],
   "source": []
  },
  {
   "cell_type": "code",
   "execution_count": null,
   "id": "f11bf79c",
   "metadata": {},
   "outputs": [],
   "source": []
  },
  {
   "cell_type": "code",
   "execution_count": null,
   "id": "f6524a19",
   "metadata": {},
   "outputs": [],
   "source": []
  },
  {
   "cell_type": "code",
   "execution_count": 14,
   "id": "b5c8524e",
   "metadata": {},
   "outputs": [
    {
     "name": "stdout",
     "output_type": "stream",
     "text": [
      "taid\n",
      "10\n",
      "2\n",
      "taid\n",
      "10\n",
      "3\n"
     ]
    }
   ],
   "source": [
    "class Product:\n",
    "    def __init__(self,name,price, quantity ):\n",
    "        self.name = name\n",
    "        self.price = price\n",
    "        self.quantity = quantity\n",
    "        self.new_quantity = None\n",
    "\n",
    "    def update_quantity (self, new_quantity):\n",
    "        self.quantity = new_quantity\n",
    "        \n",
    "        \n",
    "    def total_price(self):\n",
    "        t_price = self.price * self.quantity\n",
    "        return t_price\n",
    "        \n",
    "    def Display(self):\n",
    "        print(self.name)\n",
    "        print (self.price)\n",
    "        print (self.quantity)\n",
    "        \n",
    "class Inventory(Product):\n",
    "    def __init__(self,):\n",
    "        my_dict ={ super().name : super().Product }\n",
    "  #  def new_product()\n",
    "        \n",
    "p1 = Product(\"taid\",10, 2)\n",
    "p1.Display()\n",
    "p1.total_price()\n",
    "p1.update_quantity(3)\n",
    "p1.Display()\n"
   ]
  }
 ],
 "metadata": {
  "kernelspec": {
   "display_name": "Python 3 (ipykernel)",
   "language": "python",
   "name": "python3"
  },
  "language_info": {
   "codemirror_mode": {
    "name": "ipython",
    "version": 3
   },
   "file_extension": ".py",
   "mimetype": "text/x-python",
   "name": "python",
   "nbconvert_exporter": "python",
   "pygments_lexer": "ipython3",
   "version": "3.10.9"
  }
 },
 "nbformat": 4,
 "nbformat_minor": 5
}
